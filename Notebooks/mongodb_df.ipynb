{
 "cells": [
  {
   "cell_type": "code",
   "execution_count": 1,
   "metadata": {},
   "outputs": [],
   "source": [
    "import pymongo\n",
    "import pandas as pd\n",
    "from datetime import datetime\n",
    "from matplotlib import pyplot as plt\n",
    "\n",
    "# MongoDB connection details\n",
    "client = pymongo.MongoClient(\"mongodb://localhost:27017/\")\n",
    "db = client['mydb']  # replace with your database name\n",
    "collection = db['sensor']  # replace with your collection name"
   ]
  },
  {
   "cell_type": "code",
   "execution_count": 2,
   "metadata": {},
   "outputs": [],
   "source": [
    "# Fetch data from MongoDB\n",
    "documents = collection.find({}, {\n",
    "    \"deviceId\": 1,\n",
    "    \"code\": 1,\n",
    "    \"value\": 1,\n",
    "    \"creationDate\": 1,\n",
    "    \"_id\": 0\n",
    "})"
   ]
  },
  {
   "cell_type": "code",
   "execution_count": 3,
   "metadata": {},
   "outputs": [
    {
     "data": {
      "text/plain": [
       "<pymongo.cursor.Cursor at 0x7d866a7c8990>"
      ]
     },
     "execution_count": 3,
     "metadata": {},
     "output_type": "execute_result"
    }
   ],
   "source": [
    "documents"
   ]
  },
  {
   "cell_type": "code",
   "execution_count": 17,
   "metadata": {},
   "outputs": [],
   "source": [
    "documents.cursor_id"
   ]
  },
  {
   "cell_type": "code",
   "execution_count": 18,
   "metadata": {},
   "outputs": [],
   "source": [
    "# Convert to DataFrame\n",
    "df = pd.DataFrame(documents)"
   ]
  },
  {
   "cell_type": "code",
   "execution_count": 19,
   "metadata": {},
   "outputs": [
    {
     "data": {
      "text/html": [
       "<div>\n",
       "<style scoped>\n",
       "    .dataframe tbody tr th:only-of-type {\n",
       "        vertical-align: middle;\n",
       "    }\n",
       "\n",
       "    .dataframe tbody tr th {\n",
       "        vertical-align: top;\n",
       "    }\n",
       "\n",
       "    .dataframe thead th {\n",
       "        text-align: right;\n",
       "    }\n",
       "</style>\n",
       "<table border=\"1\" class=\"dataframe\">\n",
       "  <thead>\n",
       "    <tr style=\"text-align: right;\">\n",
       "      <th></th>\n",
       "      <th>deviceId</th>\n",
       "      <th>code</th>\n",
       "      <th>value</th>\n",
       "      <th>creationDate</th>\n",
       "    </tr>\n",
       "  </thead>\n",
       "  <tbody>\n",
       "    <tr>\n",
       "      <th>0</th>\n",
       "      <td>SAG_DPv3_QA3</td>\n",
       "      <td>T</td>\n",
       "      <td>-46.85</td>\n",
       "      <td>2024-08-22 08:16:14.451</td>\n",
       "    </tr>\n",
       "    <tr>\n",
       "      <th>1</th>\n",
       "      <td>SAG_DPv3_QA3</td>\n",
       "      <td>H</td>\n",
       "      <td>-6.00</td>\n",
       "      <td>2024-08-22 08:16:14.452</td>\n",
       "    </tr>\n",
       "    <tr>\n",
       "      <th>2</th>\n",
       "      <td>SAG_DPv3_QA3</td>\n",
       "      <td>MEA4</td>\n",
       "      <td>017/146</td>\n",
       "      <td>2024-08-22 08:16:14.452</td>\n",
       "    </tr>\n",
       "    <tr>\n",
       "      <th>3</th>\n",
       "      <td>SAG_DPv3_QA3</td>\n",
       "      <td>IRO</td>\n",
       "      <td>0068/4095/-46.85</td>\n",
       "      <td>2024-08-22 08:16:14.453</td>\n",
       "    </tr>\n",
       "    <tr>\n",
       "      <th>4</th>\n",
       "      <td>SAG_DPv3_QA3</td>\n",
       "      <td>LIA1</td>\n",
       "      <td>000000</td>\n",
       "      <td>2024-08-22 08:16:14.454</td>\n",
       "    </tr>\n",
       "    <tr>\n",
       "      <th>...</th>\n",
       "      <td>...</td>\n",
       "      <td>...</td>\n",
       "      <td>...</td>\n",
       "      <td>...</td>\n",
       "    </tr>\n",
       "    <tr>\n",
       "      <th>35709</th>\n",
       "      <td>SAG_DPv3_QA3</td>\n",
       "      <td>PS</td>\n",
       "      <td>0</td>\n",
       "      <td>2024-08-23 14:19:54.979</td>\n",
       "    </tr>\n",
       "    <tr>\n",
       "      <th>35710</th>\n",
       "      <td>SAB80MO0046</td>\n",
       "      <td>CS</td>\n",
       "      <td>1</td>\n",
       "      <td>2024-08-23 14:19:56.916</td>\n",
       "    </tr>\n",
       "    <tr>\n",
       "      <th>35711</th>\n",
       "      <td>SAB80MO0046</td>\n",
       "      <td>CT</td>\n",
       "      <td>10</td>\n",
       "      <td>2024-08-23 14:19:56.917</td>\n",
       "    </tr>\n",
       "    <tr>\n",
       "      <th>35712</th>\n",
       "      <td>SAB80MO0046</td>\n",
       "      <td>SS</td>\n",
       "      <td>26</td>\n",
       "      <td>2024-08-23 14:19:56.917</td>\n",
       "    </tr>\n",
       "    <tr>\n",
       "      <th>35713</th>\n",
       "      <td>SAB80MO0046</td>\n",
       "      <td>B</td>\n",
       "      <td>322</td>\n",
       "      <td>2024-08-23 14:19:56.917</td>\n",
       "    </tr>\n",
       "  </tbody>\n",
       "</table>\n",
       "<p>35714 rows × 4 columns</p>\n",
       "</div>"
      ],
      "text/plain": [
       "           deviceId  code             value            creationDate\n",
       "0      SAG_DPv3_QA3     T            -46.85 2024-08-22 08:16:14.451\n",
       "1      SAG_DPv3_QA3     H             -6.00 2024-08-22 08:16:14.452\n",
       "2      SAG_DPv3_QA3  MEA4           017/146 2024-08-22 08:16:14.452\n",
       "3      SAG_DPv3_QA3   IRO  0068/4095/-46.85 2024-08-22 08:16:14.453\n",
       "4      SAG_DPv3_QA3  LIA1            000000 2024-08-22 08:16:14.454\n",
       "...             ...   ...               ...                     ...\n",
       "35709  SAG_DPv3_QA3    PS                 0 2024-08-23 14:19:54.979\n",
       "35710   SAB80MO0046    CS                 1 2024-08-23 14:19:56.916\n",
       "35711   SAB80MO0046    CT                10 2024-08-23 14:19:56.917\n",
       "35712   SAB80MO0046    SS                26 2024-08-23 14:19:56.917\n",
       "35713   SAB80MO0046     B               322 2024-08-23 14:19:56.917\n",
       "\n",
       "[35714 rows x 4 columns]"
      ]
     },
     "execution_count": 19,
     "metadata": {},
     "output_type": "execute_result"
    }
   ],
   "source": [
    "df"
   ]
  },
  {
   "cell_type": "code",
   "execution_count": 20,
   "metadata": {},
   "outputs": [
    {
     "name": "stdout",
     "output_type": "stream",
     "text": [
      "           deviceId  code             value            creationDate\n",
      "0      SAG_DPv3_QA3     T            -46.85 2024-08-22 08:16:14.451\n",
      "1      SAG_DPv3_QA3     H             -6.00 2024-08-22 08:16:14.452\n",
      "2      SAG_DPv3_QA3  MEA4           017/146 2024-08-22 08:16:14.452\n",
      "3      SAG_DPv3_QA3   IRO  0068/4095/-46.85 2024-08-22 08:16:14.453\n",
      "4      SAG_DPv3_QA3  LIA1            000000 2024-08-22 08:16:14.454\n",
      "...             ...   ...               ...                     ...\n",
      "35709  SAG_DPv3_QA3    PS                 0 2024-08-23 14:19:54.979\n",
      "35710   SAB80MO0046    CS                 1 2024-08-23 14:19:56.916\n",
      "35711   SAB80MO0046    CT                10 2024-08-23 14:19:56.917\n",
      "35712   SAB80MO0046    SS                26 2024-08-23 14:19:56.917\n",
      "35713   SAB80MO0046     B               322 2024-08-23 14:19:56.917\n",
      "\n",
      "[35714 rows x 4 columns]\n"
     ]
    }
   ],
   "source": [
    "# Convert 'value' to a float\n",
    "#df['value'] = df['value'].astype(float)\n",
    "\n",
    "# Extract the '$date' field from the 'creationDate' column\n",
    "df['creationDate'] = df['creationDate'].apply(lambda x: x['$date'] if isinstance(x, dict) else x)\n",
    "\n",
    "# Convert 'creationDate' to a datetime object\n",
    "df['creationDate'] = pd.to_datetime(df['creationDate'])\n",
    "\n",
    "# Display the DataFrame\n",
    "print(df)"
   ]
  },
  {
   "cell_type": "code",
   "execution_count": null,
   "metadata": {},
   "outputs": [],
   "source": [
    "def mongo_to_df():\n",
    "    import pymongo\n",
    "    import pandas as pd\n",
    "    from datetime import datetime\n",
    "    \n",
    "    # MongoDB connection details\n",
    "    client = pymongo.MongoClient(\"mongodb://localhost:27017/\")\n",
    "    db = client['mydb']  # replace with your database name\n",
    "    collection = db['sensor']  \n",
    "\n",
    "    documents = collection.find({}, {\n",
    "        \"deviceId\": 1,\n",
    "        \"code\": 1,\n",
    "        \"value\": 1,\n",
    "        \"creationDate\": 1,\n",
    "        \"_id\": 0})\n",
    "    \n",
    "    df = pd.DataFrame(documents) \n",
    "\n",
    "    # Extract the '$date' field from the 'creationDate' column\n",
    "    df['creationDate'] = df['creationDate'].apply(lambda x: x['$date'] if isinstance(x, dict) else x)\n",
    "\n",
    "# Convert 'creationDate' to a datetime object\n",
    "    df['creationDate'] = pd.to_datetime(df['creationDate'])\n",
    "\n",
    "    return df"
   ]
  },
  {
   "cell_type": "code",
   "execution_count": 21,
   "metadata": {},
   "outputs": [],
   "source": [
    "def plot_sensor_data(df, device_id, code, plot_type, \n",
    "                     start_date=None, end_date=None, \n",
    "                     boundary_date=None, before=True, \n",
    "                     num_values=None, first=True, \n",
    "                     value_threshold=None, min_value=True):\n",
    "    \n",
    "    import pandas as pd\n",
    "    from matplotlib import pyplot as plt\n",
    "    \n",
    "    # Filter DataFrame by device_id and code\n",
    "    df_filtered = df[(df['deviceId'] == device_id) & (df['code'] == code)]\n",
    "    \n",
    "    # Convert 'value' to float\n",
    "    df_filtered['value'] = df_filtered['value'].astype(float)\n",
    "    \n",
    "    # Convert 'creationDate' to datetime if it's not already\n",
    "    if df_filtered['creationDate'].dtype != 'datetime64[ns]':\n",
    "        df_filtered['creationDate'] = pd.to_datetime(df_filtered['creationDate'])\n",
    "\n",
    "    if plot_type == 'date_range':\n",
    "        # 1) Plot for a given range of creation dates\n",
    "        if start_date and end_date:\n",
    "            df_filtered = df_filtered[(df_filtered['creationDate'] >= pd.to_datetime(start_date)) &\n",
    "                                      (df_filtered['creationDate'] <= pd.to_datetime(end_date))]\n",
    "\n",
    "    elif plot_type == 'date_boundary':\n",
    "        # 2) Plot after/before a given creation date\n",
    "        if boundary_date:\n",
    "            if before:\n",
    "                df_filtered = df_filtered[df_filtered['creationDate'] <= pd.to_datetime(boundary_date)]\n",
    "            else:\n",
    "                df_filtered = df_filtered[df_filtered['creationDate'] >= pd.to_datetime(boundary_date)]\n",
    "    \n",
    "    elif plot_type == 'recorded_values':\n",
    "        # 3) Plot for a given range of last/first few recorded values\n",
    "        if num_values:\n",
    "            df_filtered = df_filtered.sort_values(by='creationDate', ascending=first).head(num_values)\n",
    "    \n",
    "    elif plot_type == 'value_threshold':\n",
    "        # 4) Plot for a given threshold of value (min/max)\n",
    "        if value_threshold is not None:\n",
    "            if min_value:\n",
    "                df_filtered = df_filtered[df_filtered['value'] >= value_threshold]\n",
    "            else:\n",
    "                df_filtered = df_filtered[df_filtered['value'] <= value_threshold]\n",
    "    \n",
    "    # Plotting\n",
    "    plt.scatter(df_filtered['creationDate'], df_filtered['value'])\n",
    "    plt.xlabel('Creation Date')\n",
    "    plt.ylabel('Value')\n",
    "    plt.title(f'Values vs Creation Date for Device ID: {device_id}, Code: {code}')\n",
    "    plt.show()\n",
    "\n",
    "# Example usage:\n",
    "# plot_sensor_data(df, 'SAG_DPv3_QA3', 'T', 'date_range', start_date='2024-08-20', end_date='2024-08-25')\n",
    "# plot_sensor_data(df, 'SAG_DPv3_QA3', 'T', 'date_boundary', boundary_date='2024-08-22', before=False)\n",
    "# plot_sensor_data(df, 'SAG_DPv3_QA3', 'T', 'recorded_values', num_values=5, first=True)\n",
    "# plot_sensor_data(df, 'SAG_DPv3_QA3', 'T', 'value_threshold', value_threshold=-45.0, min_value=True)\n"
   ]
  },
  {
   "cell_type": "code",
   "execution_count": 31,
   "metadata": {},
   "outputs": [
    {
     "name": "stderr",
     "output_type": "stream",
     "text": [
      "/tmp/ipykernel_9796/3774610922.py:11: SettingWithCopyWarning: \n",
      "A value is trying to be set on a copy of a slice from a DataFrame.\n",
      "Try using .loc[row_indexer,col_indexer] = value instead\n",
      "\n",
      "See the caveats in the documentation: https://pandas.pydata.org/pandas-docs/stable/user_guide/indexing.html#returning-a-view-versus-a-copy\n",
      "  df_filtered['value'] = df_filtered['value'].astype(float)\n"
     ]
    },
    {
     "data": {
      "image/png": "[encoded data removed]",
      "text/plain": [
       "<Figure size 640x480 with 1 Axes>"
      ]
     },
     "metadata": {},
     "output_type": "display_data"
    }
   ],
   "source": [
    "plot_sensor_data(df, 'SAG_DPv3_QA3', 'T', 'date_range', start_date='2024-08-20', end_date='2024-08-25')"
   ]
  },
  {
   "cell_type": "code",
   "execution_count": null,
   "metadata": {},
   "outputs": [],
   "source": []
  }
 ],
 "metadata": {
  "kernelspec": {
   "display_name": "torch",
   "language": "python",
   "name": "python3"
  },
  "language_info": {
   "codemirror_mode": {
    "name": "ipython",
    "version": 3
   },
   "file_extension": ".py",
   "mimetype": "text/x-python",
   "name": "python",
   "nbconvert_exporter": "python",
   "pygments_lexer": "ipython3",
   "version": "3.11.5"
  }
 },
 "nbformat": 4,
 "nbformat_minor": 2
}
