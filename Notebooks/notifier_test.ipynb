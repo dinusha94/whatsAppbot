{
 "cells": [
  {
   "cell_type": "code",
   "execution_count": 22,
   "metadata": {},
   "outputs": [],
   "source": [
    "import sqlite3\n",
    "import os\n",
    "import pandas as pd\n",
    "from datetime import datetime\n",
    "import time\n",
    "\n",
    "folder_path = '/home/shaheem/Documents/Project files/Notification system/databases'\n",
    "database_name = 'records_database.db'\n",
    "database_path = os.path.join(folder_path, database_name)"
   ]
  },
  {
   "cell_type": "code",
   "execution_count": 23,
   "metadata": {},
   "outputs": [],
   "source": [
    "connection = sqlite3.connect(database_path)\n",
    "cursor = connection.cursor()"
   ]
  },
  {
   "cell_type": "code",
   "execution_count": 24,
   "metadata": {},
   "outputs": [
    {
     "name": "stdout",
     "output_type": "stream",
     "text": [
      "Table 'Records' created successfully\n"
     ]
    }
   ],
   "source": [
    "create_table_query = '''\n",
    "CREATE TABLE IF NOT EXISTS Records(\n",
    "    records_id INTEGER PRIMARY KEY, \n",
    "    device_id INTEGER, \n",
    "    device_name TEXT,\n",
    "    description TEXT,\n",
    "    notifier_date_time DATETIME\n",
    "\n",
    ")\n",
    "'''\n",
    "cursor.execute(create_table_query)\n",
    "print(\"Table 'Records' created successfully\")"
   ]
  },
  {
   "cell_type": "code",
   "execution_count": 25,
   "metadata": {},
   "outputs": [
    {
     "data": {
      "text/html": [
       "<div>\n",
       "<style scoped>\n",
       "    .dataframe tbody tr th:only-of-type {\n",
       "        vertical-align: middle;\n",
       "    }\n",
       "\n",
       "    .dataframe tbody tr th {\n",
       "        vertical-align: top;\n",
       "    }\n",
       "\n",
       "    .dataframe thead th {\n",
       "        text-align: right;\n",
       "    }\n",
       "</style>\n",
       "<table border=\"1\" class=\"dataframe\">\n",
       "  <thead>\n",
       "    <tr style=\"text-align: right;\">\n",
       "      <th></th>\n",
       "      <th>records_id</th>\n",
       "      <th>device_id</th>\n",
       "      <th>device_name</th>\n",
       "      <th>description</th>\n",
       "      <th>notifier_date_time</th>\n",
       "    </tr>\n",
       "  </thead>\n",
       "  <tbody>\n",
       "  </tbody>\n",
       "</table>\n",
       "</div>"
      ],
      "text/plain": [
       "Empty DataFrame\n",
       "Columns: [records_id, device_id, device_name, description, notifier_date_time]\n",
       "Index: []"
      ]
     },
     "execution_count": 25,
     "metadata": {},
     "output_type": "execute_result"
    }
   ],
   "source": [
    "df = pd.read_sql_query(\"SELECT * FROM Records\", connection)\n",
    "df"
   ]
  },
  {
   "cell_type": "code",
   "execution_count": 10,
   "metadata": {},
   "outputs": [],
   "source": [
    "# Insert a single dummy record into the records table\n",
    "dummy_record = (\n",
    "    3,  # device_id\n",
    "    'Temperature sensor',  # device_name\n",
    "    'The temperature sensor is damaged due to internal circuit failure.',  # description\n",
    "    datetime.now().strftime('%Y-%m-%d %H:%M:%S')  # notifier_date_time\n",
    ")\n"
   ]
  },
  {
   "cell_type": "code",
   "execution_count": 11,
   "metadata": {},
   "outputs": [
    {
     "name": "stdout",
     "output_type": "stream",
     "text": [
      "Record inserted successfully.\n"
     ]
    }
   ],
   "source": [
    "# Execute the insert query\n",
    "insert_query = '''\n",
    "INSERT INTO Records(device_id, device_name, description, notifier_date_time)\n",
    "VALUES (?, ?, ?, ?)\n",
    "'''\n",
    "\n",
    "cursor.execute(insert_query, dummy_record)\n",
    "\n",
    "# Commit the changes and close the connection\n",
    "connection.commit()\n",
    "\n",
    "print(\"Record inserted successfully.\")"
   ]
  },
  {
   "cell_type": "code",
   "execution_count": 26,
   "metadata": {},
   "outputs": [],
   "source": [
    "connection.close()"
   ]
  },
  {
   "cell_type": "code",
   "execution_count": null,
   "metadata": {},
   "outputs": [],
   "source": []
  }
 ],
 "metadata": {
  "kernelspec": {
   "display_name": "torch",
   "language": "python",
   "name": "python3"
  },
  "language_info": {
   "codemirror_mode": {
    "name": "ipython",
    "version": 3
   },
   "file_extension": ".py",
   "mimetype": "text/x-python",
   "name": "python",
   "nbconvert_exporter": "python",
   "pygments_lexer": "ipython3",
   "version": "3.11.5"
  }
 },
 "nbformat": 4,
 "nbformat_minor": 2
}
