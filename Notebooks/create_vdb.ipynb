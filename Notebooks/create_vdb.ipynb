{
 "cells": [
  {
   "cell_type": "code",
   "execution_count": 1,
   "metadata": {},
   "outputs": [
    {
     "data": {
      "text/plain": [
       "True"
      ]
     },
     "execution_count": 1,
     "metadata": {},
     "output_type": "execute_result"
    }
   ],
   "source": [
    "from langchain.document_loaders import PyPDFLoader\n",
    "from langchain.text_splitter import RecursiveCharacterTextSplitter\n",
    "from langchain_google_genai import GoogleGenerativeAIEmbeddings\n",
    "import os\n",
    "from dotenv import load_dotenv\n",
    "from langchain.vectorstores import Chroma\n",
    "\n",
    "load_dotenv()"
   ]
  },
  {
   "cell_type": "code",
   "execution_count": 2,
   "metadata": {},
   "outputs": [],
   "source": [
    "GOOGLE_API_KEY=os.environ[\"GOOGLE_API_KEY\"]\n",
    "persist_directory = 'docs/chroma/'"
   ]
  },
  {
   "cell_type": "code",
   "execution_count": 4,
   "metadata": {},
   "outputs": [],
   "source": [
    "# Load PDF\n",
    "loaders = [\n",
    "    # Duplicate documents on purpose - messy data\n",
    "    PyPDFLoader(\"pdf_chat/Test_Automation .pdf\")\n",
    "]\n",
    "docs = []\n",
    "for loader in loaders:\n",
    "    docs.extend(loader.load())"
   ]
  },
  {
   "cell_type": "code",
   "execution_count": 5,
   "metadata": {},
   "outputs": [],
   "source": [
    "text_splitter = RecursiveCharacterTextSplitter(\n",
    "    chunk_size = 1500,\n",
    "    chunk_overlap = 150\n",
    ")"
   ]
  },
  {
   "cell_type": "code",
   "execution_count": 6,
   "metadata": {},
   "outputs": [],
   "source": [
    "splits = text_splitter.split_documents(docs)"
   ]
  },
  {
   "cell_type": "code",
   "execution_count": 7,
   "metadata": {},
   "outputs": [],
   "source": [
    "embeddings = GoogleGenerativeAIEmbeddings(model=\"models/embedding-001\")"
   ]
  },
  {
   "cell_type": "code",
   "execution_count": 8,
   "metadata": {},
   "outputs": [],
   "source": [
    "vectordb = Chroma.from_documents(\n",
    "    documents=splits,\n",
    "    embedding=embeddings,\n",
    "    persist_directory=persist_directory\n",
    ")"
   ]
  },
  {
   "cell_type": "code",
   "execution_count": 11,
   "metadata": {},
   "outputs": [],
   "source": [
    "question = \"What are some common device failures?\"\n",
    "docs = vectordb.similarity_search(question,k=3)"
   ]
  },
  {
   "cell_type": "code",
   "execution_count": 12,
   "metadata": {},
   "outputs": [
    {
     "name": "stdout",
     "output_type": "stream",
     "text": [
      "{'page': 0, 'source': 'pdf_chat/Test_Automation .pdf'}\n",
      "{'page': 1, 'source': 'pdf_chat/Test_Automation .pdf'}\n",
      "{'page': 2, 'source': 'pdf_chat/Test_Automation .pdf'}\n"
     ]
    }
   ],
   "source": [
    "for doc in docs:\n",
    "    print(doc.metadata)"
   ]
  },
  {
   "cell_type": "code",
   "execution_count": 15,
   "metadata": {},
   "outputs": [
    {
     "name": "stdout",
     "output_type": "stream",
     "text": [
      "ii.\n",
      "Current\n",
      "sensor\n",
      "not\n",
      "working\n",
      "iii.\n",
      "Motor\n",
      "is\n",
      "not\n",
      "working\n",
      "d.\n",
      "Malfunction\n",
      "of\n",
      "Valve\n",
      "device\n",
      "i.\n",
      "Valve\n",
      "is\n",
      "damaged\n",
      "ii.\n",
      "Valve\n",
      "is\n",
      "not\n",
      "fully\n",
      "open\n",
      "4.\n",
      "SolarTrack\n",
      "a.\n",
      "Internet\n",
      "is\n",
      "not\n",
      "working\n",
      "i.\n",
      "Connection\n",
      "is\n",
      "disconnected\n",
      "ii.\n",
      "Firewall\n",
      "issues\n",
      "b.\n",
      "Inverter\n",
      "Modbus\n",
      "not\n",
      "working\n",
      "i.\n",
      "Inverter\n",
      "is\n",
      "off\n",
      "ii.\n",
      "Modbus\n",
      "is\n",
      "damaged\n",
      "iii.\n",
      "Switch\n",
      "is\n",
      "damaged\n",
      "iv.\n",
      "Inverter\n",
      "IP\n",
      "configurations\n",
      "changed\n",
      "c.\n",
      "Main\n",
      "board\n",
      "issue\n",
      "i.\n",
      "Memory\n",
      "overflow\n",
      "ii.\n",
      "Stuck\n",
      "in\n",
      "program\n",
      "iii.\n",
      "Heat\n",
      "issue\n",
      "in\n",
      "the\n",
      "Main\n",
      "board\n",
      "d.\n",
      "Device\n",
      "is\n",
      "restarted\n",
      "Solutions\n",
      "for\n",
      "those\n",
      "Failure\n",
      "Scenarios\n"
     ]
    }
   ],
   "source": [
    "print(docs[1].page_content)"
   ]
  },
  {
   "cell_type": "code",
   "execution_count": 14,
   "metadata": {},
   "outputs": [
    {
     "name": "stderr",
     "output_type": "stream",
     "text": [
      "/home/shaheem/anaconda3/envs/torch/lib/python3.11/site-packages/langchain_core/_api/deprecation.py:139: LangChainDeprecationWarning: Since Chroma 0.4.x the manual persistence method is no longer supported as docs are automatically persisted.\n",
      "  warn_deprecated(\n"
     ]
    }
   ],
   "source": [
    "vectordb.persist()"
   ]
  },
  {
   "cell_type": "code",
   "execution_count": null,
   "metadata": {},
   "outputs": [],
   "source": []
  }
 ],
 "metadata": {
  "kernelspec": {
   "display_name": "torch",
   "language": "python",
   "name": "python3"
  },
  "language_info": {
   "codemirror_mode": {
    "name": "ipython",
    "version": 3
   },
   "file_extension": ".py",
   "mimetype": "text/x-python",
   "name": "python",
   "nbconvert_exporter": "python",
   "pygments_lexer": "ipython3",
   "version": "3.11.5"
  }
 },
 "nbformat": 4,
 "nbformat_minor": 2
}
