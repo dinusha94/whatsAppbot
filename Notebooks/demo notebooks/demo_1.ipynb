{
 "cells": [
  {
   "cell_type": "code",
   "execution_count": 1,
   "metadata": {},
   "outputs": [],
   "source": [
    "import sqlite3\n",
    "import os\n",
    "import pandas as pd\n",
    "from qa_system import initialise_qa\n",
    "\n",
    "folder_path = '/home/shaheem/Documents/Project files/Notification system/databases'\n",
    "database_name = 'records_database.db'\n",
    "database_path = os.path.join(folder_path, database_name)"
   ]
  },
  {
   "cell_type": "code",
   "execution_count": 3,
   "metadata": {},
   "outputs": [
    {
     "data": {
      "text/html": [
       "<div>\n",
       "<style scoped>\n",
       "    .dataframe tbody tr th:only-of-type {\n",
       "        vertical-align: middle;\n",
       "    }\n",
       "\n",
       "    .dataframe tbody tr th {\n",
       "        vertical-align: top;\n",
       "    }\n",
       "\n",
       "    .dataframe thead th {\n",
       "        text-align: right;\n",
       "    }\n",
       "</style>\n",
       "<table border=\"1\" class=\"dataframe\">\n",
       "  <thead>\n",
       "    <tr style=\"text-align: right;\">\n",
       "      <th></th>\n",
       "      <th>records_id</th>\n",
       "      <th>device_id</th>\n",
       "      <th>device_name</th>\n",
       "      <th>description</th>\n",
       "      <th>notifier_date_time</th>\n",
       "    </tr>\n",
       "  </thead>\n",
       "  <tbody>\n",
       "    <tr>\n",
       "      <th>0</th>\n",
       "      <td>1</td>\n",
       "      <td>101</td>\n",
       "      <td>Solar Panel</td>\n",
       "      <td>There are dusts in the solar panel</td>\n",
       "      <td>2024-07-31 11:37:19</td>\n",
       "    </tr>\n",
       "    <tr>\n",
       "      <th>1</th>\n",
       "      <td>2</td>\n",
       "      <td>102</td>\n",
       "      <td>Temperature sensor</td>\n",
       "      <td>Internal circuitry is not responsive</td>\n",
       "      <td>2024-07-31 12:52:26</td>\n",
       "    </tr>\n",
       "  </tbody>\n",
       "</table>\n",
       "</div>"
      ],
      "text/plain": [
       "   records_id  device_id         device_name  \\\n",
       "0           1        101         Solar Panel   \n",
       "1           2        102  Temperature sensor   \n",
       "\n",
       "                            description   notifier_date_time  \n",
       "0    There are dusts in the solar panel  2024-07-31 11:37:19  \n",
       "1  Internal circuitry is not responsive  2024-07-31 12:52:26  "
      ]
     },
     "execution_count": 3,
     "metadata": {},
     "output_type": "execute_result"
    }
   ],
   "source": [
    "connection = sqlite3.connect(database_path)\n",
    "cursor = connection.cursor()\n",
    "df = pd.read_sql_query(\"SELECT * FROM Records\", connection)\n",
    "connection.close()\n",
    "df"
   ]
  },
  {
   "cell_type": "code",
   "execution_count": 4,
   "metadata": {},
   "outputs": [
    {
     "name": "stdout",
     "output_type": "stream",
     "text": [
      "The recent record is about a Temperature sensor with Device ID 102. The sensor is named \"Temperature sensor\" and its internal circuitry is not responsive. This issue was reported on 2024-07-31 at 12:52:26. \n",
      "\n"
     ]
    }
   ],
   "source": [
    "question= \"Can you explain about the recent record?\"\n",
    "result = initialise_qa(question)\n",
    "print(result)"
   ]
  },
  {
   "cell_type": "code",
   "execution_count": 5,
   "metadata": {},
   "outputs": [
    {
     "name": "stdout",
     "output_type": "stream",
     "text": [
      "Sure, here are the details about the last 2 records:\n",
      "\n",
      "- **Record ID: 2** \n",
      "    - **Device ID:** 102\n",
      "    - **Device Name:** Temperature sensor\n",
      "    - **Description:** Internal circuitry is not responsive\n",
      "    - **Notifier Date Time:** 2024-07-31 12:52:26\n",
      "- **Record ID: 1** \n",
      "    - **Device ID:** 101\n",
      "    - **Device Name:** Solar Panel\n",
      "    - **Description:** There are dusts in the solar panel\n",
      "    - **Notifier Date Time:** 2024-07-31 11:37:19 \n",
      "\n"
     ]
    }
   ],
   "source": [
    "question= \"Can you provide me details about the last 2 records?\"\n",
    "result = initialise_qa(question)\n",
    "print(result)"
   ]
  },
  {
   "cell_type": "code",
   "execution_count": 6,
   "metadata": {},
   "outputs": [
    {
     "name": "stdout",
     "output_type": "stream",
     "text": [
      "The solar panel failures can be due to dust on the solar panel, connection issue with the main board, or damage to the solar panel itself. \n",
      "\n"
     ]
    }
   ],
   "source": [
    "question= \"Can you provide me the reasons for solar panel failures?\"\n",
    "result = initialise_qa(question)\n",
    "print(result)"
   ]
  },
  {
   "cell_type": "code",
   "execution_count": 7,
   "metadata": {},
   "outputs": [
    {
     "name": "stdout",
     "output_type": "stream",
     "text": [
      "The temperature sensor malfunction can be caused by:\n",
      "\n",
      "* **Chip failed:** The sensor's internal chip might have become faulty.\n",
      "* **Sensor wire damaged:** The wire connecting the sensor to the main board could be damaged or broken.\n",
      "* **Connection issue with the main board:** The connection between the sensor and the main board might be loose or faulty. \n",
      "\n"
     ]
    }
   ],
   "source": [
    "question= \"Can you provide me reason for temperature sensor malfunction?\"\n",
    "result = initialise_qa(question)\n",
    "print(result)"
   ]
  },
  {
   "cell_type": "code",
   "execution_count": null,
   "metadata": {},
   "outputs": [],
   "source": []
  }
 ],
 "metadata": {
  "kernelspec": {
   "display_name": "torch",
   "language": "python",
   "name": "python3"
  },
  "language_info": {
   "codemirror_mode": {
    "name": "ipython",
    "version": 3
   },
   "file_extension": ".py",
   "mimetype": "text/x-python",
   "name": "python",
   "nbconvert_exporter": "python",
   "pygments_lexer": "ipython3",
   "version": "3.11.5"
  }
 },
 "nbformat": 4,
 "nbformat_minor": 2
}
