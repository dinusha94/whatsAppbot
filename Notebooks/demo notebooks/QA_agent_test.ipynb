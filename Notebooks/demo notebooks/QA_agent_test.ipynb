{
 "cells": [
  {
   "cell_type": "code",
   "execution_count": 3,
   "metadata": {},
   "outputs": [],
   "source": [
    "from chat_agent.qa_agent import agent_answer"
   ]
  },
  {
   "cell_type": "code",
   "execution_count": 4,
   "metadata": {},
   "outputs": [
    {
     "name": "stderr",
     "output_type": "stream",
     "text": [
      "Number of requested results 4 is greater than number of elements in index 3, updating n_results = 3\n"
     ]
    },
    {
     "name": "stdout",
     "output_type": "stream",
     "text": [
      "The temperature sensor could be malfunctioning due to a few reasons:\n",
      "\n",
      "* **Chip failure:** The sensor chip itself might be damaged.\n",
      "* **Sensor wire damage:** The wire connecting the sensor to the main board could be broken or damaged.\n",
      "* **Connection issue with the main board:** The connection between the sensor and the main board might be loose or faulty. \n",
      "\n",
      "To determine the exact cause, you'll need to inspect the sensor and its wiring. \n",
      "\n"
     ]
    }
   ],
   "source": [
    "user_question = \"Can you provide me reason for temperature sensor malfunction?\"\n",
    "answer =agent_answer(user_question)\n",
    "print(answer)"
   ]
  }
 ],
 "metadata": {
  "kernelspec": {
   "display_name": "torch",
   "language": "python",
   "name": "python3"
  },
  "language_info": {
   "codemirror_mode": {
    "name": "ipython",
    "version": 3
   },
   "file_extension": ".py",
   "mimetype": "text/x-python",
   "name": "python",
   "nbconvert_exporter": "python",
   "pygments_lexer": "ipython3",
   "version": "3.11.5"
  }
 },
 "nbformat": 4,
 "nbformat_minor": 2
}
