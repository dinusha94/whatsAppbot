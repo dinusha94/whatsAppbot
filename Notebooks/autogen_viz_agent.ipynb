{
 "cells": [
  {
   "cell_type": "code",
   "execution_count": 5,
   "metadata": {},
   "outputs": [],
   "source": [
    "from autogen import UserProxyAgent\n",
    "import os\n",
    "from dotenv import load_dotenv\n",
    "from autogen import ConversableAgent,GroupChat,GroupChatManager,AssistantAgent\n",
    "from autogen.coding import LocalCommandLineCodeExecutor\n",
    "from google.generativeai.types import HarmCategory, HarmBlockThreshold\n",
    "\n",
    "load_dotenv()\n",
    "GOOGLE_API_KEY=os.environ[\"GOOGLE_API_KEY\"]\n",
    "\n",
    "safety_settings={\n",
    "        HarmCategory.HARM_CATEGORY_HATE_SPEECH: HarmBlockThreshold.BLOCK_NONE,\n",
    "        HarmCategory.HARM_CATEGORY_HARASSMENT: HarmBlockThreshold.BLOCK_NONE,\n",
    "        HarmCategory.HARM_CATEGORY_SEXUALLY_EXPLICIT: HarmBlockThreshold.BLOCK_NONE,\n",
    "        HarmCategory.HARM_CATEGORY_DANGEROUS_CONTENT: HarmBlockThreshold.BLOCK_NONE,\n",
    "\n",
    "    }"
   ]
  },
  {
   "cell_type": "code",
   "execution_count": 6,
   "metadata": {},
   "outputs": [],
   "source": [
    "llm_config = {\"model\": \"gemini-1.5-flash\",\n",
    "              \"api_key\": GOOGLE_API_KEY,\n",
    "              \"api_type\": \"google\",\n",
    "              \"safety_settings\":safety_settings}"
   ]
  },
  {
   "cell_type": "code",
   "execution_count": null,
   "metadata": {},
   "outputs": [],
   "source": [
    "reply = agent.generate_reply(\n",
    "    messages=[{\"content\": \"Tell me a joke.\", \"role\": \"user\"}]\n",
    ")\n",
    "print(reply['content'])"
   ]
  },
  {
   "cell_type": "code",
   "execution_count": null,
   "metadata": {},
   "outputs": [],
   "source": [
    "cathy = ConversableAgent(\n",
    "    name=\"cathy\",\n",
    "    system_message=\n",
    "    \"Your name is Cathy and you are a stand-up comedian.\",\n",
    "    llm_config=llm_config,\n",
    "    human_input_mode=\"NEVER\",\n",
    ")\n",
    "\n",
    "joe = ConversableAgent(\n",
    "    name=\"joe\",\n",
    "    system_message=\n",
    "    \"Your name is Joe and you are a stand-up comedian. \"\n",
    "    \"Start the next joke from the punchline of the previous joke.\",\n",
    "    llm_config=llm_config,\n",
    "    human_input_mode=\"NEVER\",\n",
    ")"
   ]
  },
  {
   "cell_type": "code",
   "execution_count": null,
   "metadata": {},
   "outputs": [],
   "source": [
    "chat_result = joe.initiate_chat(\n",
    "    recipient=cathy, \n",
    "    message=\"I'm Joe. Cathy, let's keep the jokes rolling.\",\n",
    "    max_turns=1,\n",
    ")"
   ]
  },
  {
   "cell_type": "code",
   "execution_count": null,
   "metadata": {},
   "outputs": [],
   "source": [
    "chat_result = joe.initiate_chat(\n",
    "    cathy, \n",
    "    message=\"I'm Joe. Cathy, let's keep the jokes rolling.\", \n",
    "    max_turns=2, \n",
    "    summary_method=\"reflection_with_llm\",\n",
    "    summary_prompt=\"Summarize the conversation\",\n",
    ")"
   ]
  },
  {
   "cell_type": "code",
   "execution_count": null,
   "metadata": {},
   "outputs": [],
   "source": [
    "import pprint\n",
    "pprint.pprint(chat_result.summary)"
   ]
  },
  {
   "cell_type": "code",
   "execution_count": null,
   "metadata": {},
   "outputs": [],
   "source": [
    "cathy = ConversableAgent(\n",
    "    name=\"cathy\",\n",
    "    system_message=\n",
    "    \"Your name is Cathy and you are a stand-up comedian. \"\n",
    "    \"When you're ready to end the conversation, say 'I gotta go'.\",\n",
    "    llm_config=llm_config,\n",
    "    human_input_mode=\"NEVER\",\n",
    "    is_termination_msg=lambda msg: \"I gotta go\" in msg[\"content\"],\n",
    ")\n",
    "\n",
    "joe = ConversableAgent(\n",
    "    name=\"joe\",\n",
    "    system_message=\n",
    "    \"Your name is Joe and you are a stand-up comedian. \"\n",
    "    \"When you're ready to end the conversation, say 'I gotta go'.\",\n",
    "    llm_config=llm_config,\n",
    "    human_input_mode=\"NEVER\",\n",
    "    is_termination_msg=lambda msg: \"I gotta go\" in msg[\"content\"] or \"Goodbye\" in msg[\"content\"],\n",
    ")"
   ]
  },
  {
   "cell_type": "code",
   "execution_count": null,
   "metadata": {},
   "outputs": [],
   "source": [
    "chat_result = joe.initiate_chat(\n",
    "    recipient=cathy,\n",
    "    message=\"I'm Joe. Cathy, let's keep the jokes rolling.\"\n",
    ")"
   ]
  },
  {
   "cell_type": "code",
   "execution_count": null,
   "metadata": {},
   "outputs": [],
   "source": [
    "cathy.send(message=\"What's last joke we talked about?\", recipient=joe)"
   ]
  },
  {
   "cell_type": "code",
   "execution_count": null,
   "metadata": {},
   "outputs": [],
   "source": [
    "def get_stock_prices(stock_symbols, start_date, end_date):\n",
    "    \"\"\"Get the stock prices for the given stock symbols between\n",
    "    the start and end dates.\n",
    "\n",
    "    Args:\n",
    "        stock_symbols (str or list): The stock symbols to get the\n",
    "        prices for.\n",
    "        start_date (str): The start date in the format \n",
    "        'YYYY-MM-DD'.\n",
    "        end_date (str): The end date in the format 'YYYY-MM-DD'.\n",
    "    \n",
    "    Returns:\n",
    "        pandas.DataFrame: The stock prices for the given stock\n",
    "        symbols indexed by date, with one column per stock \n",
    "        symbol.\n",
    "    \"\"\"\n",
    "    import yfinance\n",
    "\n",
    "    stock_data = yfinance.download(\n",
    "        stock_symbols, start=start_date, end=end_date\n",
    "    )\n",
    "    return stock_data.get(\"Close\")\n",
    "\n",
    "def plot_stock_prices(stock_prices,filename):\n",
    "    \"\"\"Plot the stock prices for the given stock symbols.\n",
    "\n",
    "    Args:\n",
    "        stock_prices (pandas.DataFrame): The stock prices for the \n",
    "        given stock symbols.\n",
    "    \"\"\"\n",
    "    import matplotlib.pyplot as plt\n",
    "\n",
    "    plt.figure(figsize=(10, 5))\n",
    "    for column in stock_prices.columns:\n",
    "        plt.plot(\n",
    "            stock_prices.index, stock_prices[column], label=column\n",
    "                )\n",
    "    plt.title(\"Stock Prices\")\n",
    "    plt.xlabel(\"Date\")\n",
    "    plt.ylabel(\"Price\")\n",
    "    plt.grid(True)\n",
    "    plt.savefig(filename)\n",
    "    plt.close()"
   ]
  },
  {
   "cell_type": "code",
   "execution_count": null,
   "metadata": {},
   "outputs": [],
   "source": [
    "def mongo_to_df():\n",
    "    import pymongo\n",
    "    import pandas as pd\n",
    "    from datetime import datetime\n",
    "    \n",
    "    # MongoDB connection details\n",
    "    client = pymongo.MongoClient(\"mongodb://localhost:27017/\")\n",
    "    db = client['mydb']  # replace with your database name\n",
    "    collection = db['sensor']  \n",
    "\n",
    "    documents = collection.find({}, {\n",
    "        \"deviceId\": 1,\n",
    "        \"code\": 1,\n",
    "        \"value\": 1,\n",
    "        \"creationDate\": 1,\n",
    "        \"_id\": 0})\n",
    "    \n",
    "    df = pd.DataFrame(documents) \n",
    "\n",
    "    # Extract the '$date' field from the 'creationDate' column\n",
    "    df['creationDate'] = df['creationDate'].apply(lambda x: x['$date'] if isinstance(x, dict) else x)\n",
    "\n",
    "# Convert 'creationDate' to a datetime object\n",
    "    df['creationDate'] = pd.to_datetime(df['creationDate'])\n",
    "\n",
    "    return df\n",
    "\n",
    "\n",
    "def plot_data(device_id, code, plot_type, \n",
    "                     start_date=None, end_date=None, \n",
    "                     boundary_date=None, before=True, \n",
    "                     num_values=None, first=True, \n",
    "                     value_threshold=None, min_value=True):\n",
    "    \n",
    "    import pandas as pd\n",
    "    from matplotlib import pyplot as plt\n",
    "    df = mongo_to_df()\n",
    "    # Filter DataFrame by device_id and code\n",
    "    df_filtered = df[(df['deviceId'] == device_id) & (df['code'] == code)]\n",
    "    \n",
    "    # Convert 'value' to float\n",
    "    df_filtered.loc[:, 'value'] = df_filtered['value'].astype(float)\n",
    "    \n",
    "    # Convert 'creationDate' to datetime if it's not already\n",
    "    if df_filtered['creationDate'].dtype != 'datetime64[ns]':\n",
    "        df_filtered['creationDate'] = pd.to_datetime(df_filtered['creationDate'])\n",
    "\n",
    "    if plot_type == 'date_range':\n",
    "        # 1) Plot for a given range of creation dates\n",
    "        if start_date and end_date:\n",
    "            df_filtered = df_filtered[(df_filtered['creationDate'] >= pd.to_datetime(start_date)) &\n",
    "                                      (df_filtered['creationDate'] <= pd.to_datetime(end_date))]\n",
    "\n",
    "    elif plot_type == 'date_boundary':\n",
    "        # 2) Plot after/before a given creation date\n",
    "        if boundary_date:\n",
    "            if before:\n",
    "                df_filtered = df_filtered[df_filtered['creationDate'] <= pd.to_datetime(boundary_date)]\n",
    "            else:\n",
    "                df_filtered = df_filtered[df_filtered['creationDate'] >= pd.to_datetime(boundary_date)]\n",
    "    \n",
    "    elif plot_type == 'recorded_values':\n",
    "        # 3) Plot for a given range of last/first few recorded values\n",
    "        if num_values:\n",
    "            df_filtered = df_filtered.sort_values(by='creationDate', ascending=first).head(num_values)\n",
    "    \n",
    "    elif plot_type == 'value_threshold':\n",
    "        # 4) Plot for a given threshold of value (min/max)\n",
    "        if value_threshold is not None:\n",
    "            if min_value:\n",
    "                df_filtered = df_filtered[df_filtered['value'] >= value_threshold]\n",
    "            else:\n",
    "                df_filtered = df_filtered[df_filtered['value'] <= value_threshold]\n",
    "    \n",
    "    # Plotting\n",
    "    plt.scatter(df_filtered['creationDate'], df_filtered['value'])\n",
    "    plt.xlabel('Creation Date')\n",
    "    plt.ylabel('Value')\n",
    "    plt.title(f'Values vs Creation Date for Device ID: {device_id}, Code: {code}')\n",
    "    plt.grid(True)\n",
    "    plt.savefig(\"chart.png\")\n",
    "    plt.close()\n",
    "    return True"
   ]
  },
  {
   "cell_type": "code",
   "execution_count": null,
   "metadata": {},
   "outputs": [],
   "source": [
    "executor = LocalCommandLineCodeExecutor(\n",
    "    timeout=60,\n",
    "    work_dir=\"coding\",\n",
    "    functions=[plot_data,mongo_to_df],\n",
    ")"
   ]
  },
  {
   "cell_type": "code",
   "execution_count": null,
   "metadata": {},
   "outputs": [],
   "source": [
    "code_writer_agent_system_message ='''You are a helpful AI assistant.\n",
    "Solve tasks using your coding and language skills.\n",
    "In the following cases, suggest python code (in a python coding block) or shell script (in a sh coding block) for the user to execute.\n",
    "    1. When you need to collect info, use the code to output the info you need, for example, browse or search the web, download/read a file, print the content of a webpage or a file, get the current date/time, check the operating system. After sufficient info is printed and the task is ready to be solved based on your language skill, you can solve the task by yourself.\n",
    "    2. When you need to perform some task with code, use the code to perform the task and output the result. Finish the task smartly.\n",
    "Solve the task step by step if you need to. If a plan is not provided, explain your plan first. Be clear which step uses code, and which step uses your language skill.\n",
    "When using code, you must indicate the script type in the code block. The user cannot provide any other feedback or perform any other action beyond executing the code you suggest. The user can't modify your code. So do not suggest incomplete code which requires users to modify. Don't use a code block if it's not intended to be executed by the user.\n",
    "If you want the user to save the code in a file before executing it, put # filename: <filename> inside the code block as the first line. Don't include multiple code blocks in one response. Do not ask users to copy and paste the result. Instead, use 'print' function for the output when relevant. Check the execution result returned by the user.\n",
    "If the result indicates there is an error, fix the error and output the code again. Suggest the full code instead of partial code or code changes. If the error can't be fixed or if the task is not solved even after the code is executed successfully, analyze the problem, revisit your assumption, collect additional info you need, and think of a different approach to try.\n",
    "When you find an answer, verify the answer carefully. Include verifiable evidence in your response if possible.\n",
    "You must be able to define the following parameters based on the task.\\n \n",
    "\n",
    "-device_id (The device id mentioned in the task)\\n\n",
    "-code(the code mentioned in the task)\\n\n",
    "-start_date(start date mentioned in the task)\\n\n",
    "-end_date (end date mentioned in the task)\\n\n",
    "-boundary_date (boundary date mentioned in the task with before or after)\\n\n",
    "-before (whether it is before or after. If it is before, it is assigned True. If it is after, then it is assigned as False)\\n \n",
    "-num_values (no. of values requested by the task)\\n\n",
    "-first (whether it is the first or last few values requested. If it is first then, it is assigned True)\\n\n",
    "-value_threshold (a threshold value)\\n\n",
    "-min_value (whether the minimum or maximum values for a threshold is requested. If it is a minimum then it is assigned True.)\\n\n",
    "-plot_type (what type of plot should be defined. plot types include date_range(Plot for a given range of creation dates)\\n\n",
    ", date_boundary(Plot after/before a given creation date),\\n\n",
    "recorded_values(Plot for a given range of last/first few recorded values),\\n\n",
    "value_threshold(Plot for a given threshold of value (min/max)))\n",
    "Reply \"TERMINATE\" in the end when everything is done.\n",
    "'''"
   ]
  },
  {
   "cell_type": "code",
   "execution_count": null,
   "metadata": {},
   "outputs": [],
   "source": [
    "code_writer_agent_system_message += executor.format_functions_for_prompt()\n",
    "print(code_writer_agent_system_message)"
   ]
  },
  {
   "cell_type": "code",
   "execution_count": null,
   "metadata": {},
   "outputs": [],
   "source": [
    "user_proxy = UserProxyAgent(\n",
    "    name=\"Admin\",\n",
    "    system_message=\"Given the task you must provide instructions to code_writer_agent to write the proper code and execute it.\",\n",
    "    code_execution_config={\"executor\":executor},\n",
    "    llm_config=llm_config,\n",
    "    human_input_mode=\"NEVER\",\n",
    ")"
   ]
  },
  {
   "cell_type": "code",
   "execution_count": null,
   "metadata": {},
   "outputs": [],
   "source": [
    "code_writer_agent = AssistantAgent(\n",
    "    name=\"code_writer_agent\",\n",
    "    system_message=code_writer_agent_system_message,\n",
    "    llm_config=llm_config,\n",
    "    code_execution_config=False,\n",
    "    human_input_mode=\"NEVER\",\n",
    ")"
   ]
  },
  {
   "cell_type": "code",
   "execution_count": null,
   "metadata": {},
   "outputs": [],
   "source": [
    "code_writer_agent = ConversableAgent(\n",
    "    name=\"code_writer_agent\",\n",
    "    system_message=code_writer_agent_system_message,\n",
    "    llm_config=llm_config,\n",
    "    code_execution_config=False,\n",
    "    human_input_mode=\"NEVER\",\n",
    ")"
   ]
  },
  {
   "cell_type": "code",
   "execution_count": null,
   "metadata": {},
   "outputs": [],
   "source": [
    "code_executor_agent = ConversableAgent(\n",
    "    name=\"code_executor_agent\",\n",
    "    llm_config=False,\n",
    "    code_execution_config={\"executor\": executor},\n",
    "    human_input_mode=\"NEVER\",\n",
    "    default_auto_reply=\n",
    "    \"Please continue. If everything is done, reply 'TERMINATE'.\",\n",
    ")"
   ]
  },
  {
   "cell_type": "code",
   "execution_count": null,
   "metadata": {},
   "outputs": [],
   "source": [
    "groupchat =GroupChat(\n",
    "    agents=[user_proxy, code_writer_agent],\n",
    "    messages=[],\n",
    "    max_round=3,\n",
    ")"
   ]
  },
  {
   "cell_type": "code",
   "execution_count": null,
   "metadata": {},
   "outputs": [],
   "source": [
    "manager = GroupChatManager(\n",
    "    groupchat=groupchat, llm_config=llm_config\n",
    ")"
   ]
  },
  {
   "cell_type": "code",
   "execution_count": null,
   "metadata": {},
   "outputs": [],
   "source": [
    "groupchat_result = user_proxy.initiate_chat(\n",
    "    manager,\n",
    "    message=\"for the deviceId SAG_DPv3_QA3 and code B after the date 2024-08-23, Provide me a plot graph for the values.\",\n",
    ")"
   ]
  },
  {
   "cell_type": "code",
   "execution_count": null,
   "metadata": {},
   "outputs": [],
   "source": [
    "import datetime\n",
    "\n",
    "today = datetime.datetime.now().date()"
   ]
  },
  {
   "cell_type": "code",
   "execution_count": null,
   "metadata": {},
   "outputs": [],
   "source": [
    "chat_result = code_executor_agent.initiate_chat(\n",
    "    code_writer_agent,\n",
    "    message=\"for the deviceId SAG_DPv3_QA3 and code B between the dates 2024-08-20 and 2024-08-23,Provide me a plot for the values.\",\n",
    "    max_turns=3\n",
    ")"
   ]
  },
  {
   "cell_type": "code",
   "execution_count": null,
   "metadata": {},
   "outputs": [],
   "source": [
    "import os\n",
    "from IPython.display import Image\n",
    "Image(os.path.join(\"coding\", \"chart.png\"))"
   ]
  },
  {
   "cell_type": "code",
   "execution_count": null,
   "metadata": {},
   "outputs": [],
   "source": [
    "chat_result"
   ]
  },
  {
   "cell_type": "code",
   "execution_count": null,
   "metadata": {},
   "outputs": [],
   "source": [
    "groupchat_result"
   ]
  },
  {
   "cell_type": "code",
   "execution_count": 3,
   "metadata": {},
   "outputs": [],
   "source": [
    "from custom_agents.viz_agent import agents"
   ]
  },
  {
   "cell_type": "code",
   "execution_count": 7,
   "metadata": {},
   "outputs": [],
   "source": [
    "user_proxy,manager = agents(llm_config)"
   ]
  },
  {
   "cell_type": "code",
   "execution_count": 10,
   "metadata": {},
   "outputs": [
    {
     "name": "stdout",
     "output_type": "stream",
     "text": [
      "\u001b[33mAdmin\u001b[0m (to chat_manager):\n",
      "\n",
      "for the deviceId SAG_DPv3_QA3 and code B between the dates 2024-08-20 and 2024-08-23, Provide me a plot graph for the values.\n",
      "\n",
      "--------------------------------------------------------------------------------\n"
     ]
    },
    {
     "name": "stderr",
     "output_type": "stream",
     "text": [
      "GroupChat is underpopulated with 2 agents. Consider setting speaker_selection_method to 'round_robin' or allow_repeat_speaker to False, or use direct communication, unless repeated speaker is desired.\n"
     ]
    },
    {
     "name": "stdout",
     "output_type": "stream",
     "text": [
      "\u001b[32m\n",
      "Next speaker: code_writer_agent\n",
      "\u001b[0m\n",
      "\u001b[33mcode_writer_agent\u001b[0m (to chat_manager):\n",
      "\n",
      "```python\n",
      "# filename: plot_data.py\n",
      "from functions import plot_data\n",
      "\n",
      "device_id = \"SAG_DPv3_QA3\"\n",
      "code = \"B\"\n",
      "start_date = \"2024-08-20\"\n",
      "end_date = \"2024-08-23\"\n",
      "plot_type = \"date_range\"\n",
      "\n",
      "plot_data(device_id, code, plot_type, start_date=start_date, end_date=end_date)\n",
      "```\n",
      "\n",
      "I will execute this code to generate the plot for the specified device ID, code, and date range. \n",
      "\n",
      "**Please execute the code and provide the plot output.**\n",
      "\n",
      "TERMINATE \n",
      "\n",
      "\n",
      "--------------------------------------------------------------------------------\n"
     ]
    },
    {
     "name": "stderr",
     "output_type": "stream",
     "text": [
      "GroupChat is underpopulated with 2 agents. Consider setting speaker_selection_method to 'round_robin' or allow_repeat_speaker to False, or use direct communication, unless repeated speaker is desired.\n"
     ]
    },
    {
     "name": "stdout",
     "output_type": "stream",
     "text": [
      "\u001b[32m\n",
      "Next speaker: Admin\n",
      "\u001b[0m\n",
      "\u001b[31m\n",
      ">>>>>>>> EXECUTING CODE BLOCK (inferred language is python)...\u001b[0m\n",
      "\u001b[33mAdmin\u001b[0m (to chat_manager):\n",
      "\n",
      "exitcode: 0 (execution succeeded)\n",
      "Code output: \n",
      "\n",
      "--------------------------------------------------------------------------------\n"
     ]
    }
   ],
   "source": [
    "groupchat_result = user_proxy.initiate_chat(\n",
    "    manager,\n",
    "    message=\"for the deviceId SAG_DPv3_QA3 and code B between the dates 2024-08-20 and 2024-08-23, Provide me a plot graph for the values.\",\n",
    ")"
   ]
  },
  {
   "cell_type": "code",
   "execution_count": null,
   "metadata": {},
   "outputs": [],
   "source": []
  }
 ],
 "metadata": {
  "kernelspec": {
   "display_name": "torch",
   "language": "python",
   "name": "python3"
  },
  "language_info": {
   "codemirror_mode": {
    "name": "ipython",
    "version": 3
   },
   "file_extension": ".py",
   "mimetype": "text/x-python",
   "name": "python",
   "nbconvert_exporter": "python",
   "pygments_lexer": "ipython3",
   "version": "3.11.5"
  }
 },
 "nbformat": 4,
 "nbformat_minor": 2
}
