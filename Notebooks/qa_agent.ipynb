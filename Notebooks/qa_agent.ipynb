{
 "cells": [
  {
   "cell_type": "code",
   "execution_count": 9,
   "metadata": {},
   "outputs": [],
   "source": [
    "from pymongo import MongoClient\n",
    "from langchain.prompts import ChatPromptTemplate\n",
    "from langchain_google_genai import ChatGoogleGenerativeAI\n",
    "import os\n",
    "from dotenv import load_dotenv\n",
    "import json\n",
    "import re\n",
    "from datetime import datetime\n",
    "\n",
    "load_dotenv()\n",
    "GOOGLE_API_KEY=os.environ[\"GOOGLE_API_KEY\"]"
   ]
  },
  {
   "cell_type": "code",
   "execution_count": 22,
   "metadata": {},
   "outputs": [],
   "source": [
    "mongo_url = f\"mongodb://localhost:27017/\"\n",
    "client = MongoClient(mongo_url)\n",
    "db = client.mydb\n",
    "collection = db.Test_data"
   ]
  },
  {
   "cell_type": "code",
   "execution_count": 23,
   "metadata": {},
   "outputs": [],
   "source": [
    "client = MongoClient('mongodb://localhost:27017/')\n",
    "db = client['mydb']\n",
    "collection = db['sensor']"
   ]
  },
  {
   "cell_type": "code",
   "execution_count": 24,
   "metadata": {},
   "outputs": [
    {
     "data": {
      "text/plain": [
       "pymongo.collection.Collection"
      ]
     },
     "execution_count": 24,
     "metadata": {},
     "output_type": "execute_result"
    }
   ],
   "source": [
    "type(collection)"
   ]
  },
  {
   "cell_type": "code",
   "execution_count": 25,
   "metadata": {},
   "outputs": [
    {
     "name": "stdout",
     "output_type": "stream",
     "text": [
      "The 'polar' collection exists.\n"
     ]
    }
   ],
   "source": [
    "# List all collections in the database\n",
    "collections = db.list_collection_names()\n",
    "\n",
    "# Check if the 'sensor' collection exists\n",
    "if 'sensor' in collections:\n",
    "    print(\"The 'polar' collection exists.\")\n",
    "else:\n",
    "    print(\"The 'sensor' collection does not exist.\")"
   ]
  },
  {
   "cell_type": "code",
   "execution_count": 5,
   "metadata": {},
   "outputs": [
    {
     "data": {
      "text/plain": [
       "['sensor', 'Test_data']"
      ]
     },
     "execution_count": 5,
     "metadata": {},
     "output_type": "execute_result"
    }
   ],
   "source": [
    "collections"
   ]
  },
  {
   "cell_type": "code",
   "execution_count": 44,
   "metadata": {},
   "outputs": [],
   "source": [
    "llm = ChatGoogleGenerativeAI(\n",
    "        model=\"gemini-1.5-flash\",\n",
    "        max_tokens=250,\n",
    "        temperature=0.5)"
   ]
  },
  {
   "cell_type": "code",
   "execution_count": 8,
   "metadata": {},
   "outputs": [
    {
     "name": "stdout",
     "output_type": "stream",
     "text": [
      "MongoDB connection successful\n"
     ]
    }
   ],
   "source": [
    "try:\n",
    "    client.admin.command('ismaster')\n",
    "    print(\"MongoDB connection successful\")\n",
    "except Exception as e:\n",
    "    print(f\"MongoDB connection failed: {e}\")\n",
    "    exit()"
   ]
  },
  {
   "cell_type": "code",
   "execution_count": 27,
   "metadata": {},
   "outputs": [],
   "source": [
    "prompt_template =\"\"\" You are an AI expert in providing MongoDB queries. Your task is to provide a MongoDB query to extract relevant data from the \n",
    "data collection the user possess.The user has collection of data name is sensor.\n",
    "Each document in the collection represents a movie and has the following fields with their respective values,\\n\n",
    "\n",
    "   \n",
    "    - '_id': Unique identifier for the document.\\n\n",
    "    - '_class': Class of the entity, typically representing the data structure.\\n\n",
    "    - 'deviceId': Identifier of the device that collected the sensor data.\\n\n",
    "    - 'number': Sequence number of the sensor reading.\\n\n",
    "    - 'code': Code representing the type of data.\\n\n",
    "    - 'time': Timestamp when the data was collected.\\n\n",
    "    - 'value': The value recorded by the sensor.\\n\n",
    "    - 'creationDate': Timestamp when the document was created provided in datetime format.\\n\n",
    "    - 'modifiedDate': Timestamp when the document was last modified provided in datetime format.\\n\n",
    "    - 'flag': A flag indicating the status or condition of the reading.\\n\n",
    "    - 'isEditedFromUser': Boolean indicating whether the document was edited by a user.\\n\n",
    "\n",
    "\n",
    "You will be provided with a user query where you must provide a suitable MongoDB query where the relevant data can be extracted from the collection using the MongoDB query.\\n\n",
    "This is important, Remember you must only provide the relevant MongoDB query only, nothing else other than the MongoDB query such as javascript should not be provided as Answers.No explanations are also needed.\n",
    "\"\"\""
   ]
  },
  {
   "cell_type": "code",
   "execution_count": 28,
   "metadata": {},
   "outputs": [],
   "source": [
    "user_query = \"provide me the values  for deviceId SAG_DPv3_QA3 with code B with their creation dates\""
   ]
  },
  {
   "cell_type": "code",
   "execution_count": 29,
   "metadata": {},
   "outputs": [],
   "source": [
    "main_prompt = ChatPromptTemplate.from_messages(\n",
    "        [\n",
    "            (\n",
    "                \"system\",prompt_template,\n",
    "            ),\n",
    "            (\"human\", \"user query: {user_query}\"),\n",
    "        ])\n",
    "\n",
    "main_chain = main_prompt | llm "
   ]
  },
  {
   "cell_type": "code",
   "execution_count": 30,
   "metadata": {},
   "outputs": [
    {
     "name": "stdout",
     "output_type": "stream",
     "text": [
      "```mongodb\n",
      "db.sensor.find({ deviceId: \"SAG_DPv3_QA3\", code: \"B\" }, { _id: 0, value: 1, creationDate: 1 })\n",
      "```\n"
     ]
    }
   ],
   "source": [
    "ai_msg= main_chain.invoke({\n",
    "        \"user_query\": user_query\n",
    "        })\n",
    "    \n",
    "query_string = ai_msg.content\n",
    "print(query_string)"
   ]
  },
  {
   "cell_type": "code",
   "execution_count": 31,
   "metadata": {},
   "outputs": [],
   "source": [
    "def extract_mongo_query(formatted_query_string):\n",
    "    # Ensure the string is stripped of leading/trailing whitespace\n",
    "    formatted_query_string = formatted_query_string.strip()\n",
    "    \n",
    "    # Find the index where 'db.' starts\n",
    "    db_index = formatted_query_string.find(\"db.\")\n",
    "    \n",
    "    # If 'db.' is found, extract the substring from that point onward\n",
    "    if db_index != -1:\n",
    "        formatted_query = formatted_query_string[db_index:]\n",
    "    else:\n",
    "        # If 'db.' is not found, return the original string (or handle as needed)\n",
    "        formatted_query = formatted_query_string\n",
    "\n",
    "    end_index = formatted_query.find(\"`\")\n",
    "    mongo_query = formatted_query[:end_index]\n",
    "    \n",
    "    \n",
    "    # Return the clean MongoDB query string\n",
    "    return mongo_query\n",
    "\n",
    "def extract_method_collection_projection(mongo_query):\n",
    "    # Remove any leading/trailing whitespace\n",
    "    mongo_query = mongo_query.strip()\n",
    "    \n",
    "    # Find the starting point after \"db.\"\n",
    "    db_index = mongo_query.find(\"db.\")\n",
    "    \n",
    "    # Extract the rest of the query starting after \"db.\"\n",
    "    query_core = mongo_query[db_index + 3:]\n",
    "    \n",
    "    # Find the first '.' after \"db.\" to separate collection name and method\n",
    "    method_start = query_core.find(\".\")\n",
    "    \n",
    "    # Extract collection name and method\n",
    "    collection_name = query_core[:method_start]\n",
    "    method_end = query_core.find(\"(\", method_start)\n",
    "    method = query_core[method_start + 1:method_end]\n",
    "    \n",
    "    # Extract the query inside the parentheses\n",
    "    query_inside_parentheses = query_core[method_end + 1:-1]\n",
    "    \n",
    "    # Split the query and projection if they exist\n",
    "    query_parts = query_inside_parentheses.split('}, {')\n",
    "    \n",
    "    # Extract query and projection\n",
    "    query_part = query_parts[0] + '}'\n",
    "    projection_part = '{' + query_parts[1] if len(query_parts) > 1 else None\n",
    "\n",
    "    #Convert to JSON\n",
    "    query_part = convert_to_json_dict(query_part)\n",
    "    projection_part = convert_to_json_dict(projection_part)\n",
    "\n",
    "    \n",
    "    return collection_name, method, projection_part,query_part\n",
    "\n",
    "def convert_to_json_dict(query_string):\n",
    "    # Ensure the string is stripped of leading/trailing whitespace\n",
    "    query_string = query_string.strip()\n",
    "    \n",
    "    # Replace single quotes with double quotes to make it JSON-compatible\n",
    "    json_compatible_string = query_string.replace(\"'\", '\"')\n",
    "    \n",
    "    # Ensure keys are enclosed in double quotes\n",
    "    json_compatible_string = re.sub(r'(\\w+):', r'\"\\1\":', json_compatible_string)\n",
    "    \n",
    "    # Convert the JSON string to a Python dictionary\n",
    "    try:\n",
    "        query_part = json.loads(json_compatible_string)\n",
    "    except json.JSONDecodeError as e:\n",
    "        print(f\"Error decoding JSON: {e}\")\n",
    "        return None\n",
    "    \n",
    "    return query_part"
   ]
  },
  {
   "cell_type": "code",
   "execution_count": 32,
   "metadata": {},
   "outputs": [
    {
     "name": "stdout",
     "output_type": "stream",
     "text": [
      "db.sensor.find({ deviceId: \"SAG_DPv3_QA3\", code: \"B\" }, { _id: 0, value: 1, creationDate: 1 })\n",
      "\n",
      "Collection Name: sensor\n",
      "Method: find\n",
      "Projection: {'_id': 0, 'value': 1, 'creationDate': 1}\n",
      "Query Part: {'deviceId': 'SAG_DPv3_QA3', 'code': 'B'}\n"
     ]
    }
   ],
   "source": [
    "# Extract the collection name, method, and projection\n",
    "mongo_query = extract_mongo_query(query_string)\n",
    "print(mongo_query) \n",
    "collection_name, method, projection,query_part = extract_method_collection_projection(mongo_query)\n",
    "\n",
    "print(f\"Collection Name: {collection_name}\")\n",
    "print(f\"Method: {method}\")\n",
    "print(f\"Projection: {projection}\")\n",
    "print(f\"Query Part: {query_part}\")"
   ]
  },
  {
   "cell_type": "code",
   "execution_count": 54,
   "metadata": {},
   "outputs": [
    {
     "name": "stdout",
     "output_type": "stream",
     "text": [
      "[{'Director': 'James Cameron'}]\n"
     ]
    }
   ],
   "source": [
    "if method == \"findOne\":\n",
    "    result = collection.find_one(query_part, projection)\n",
    "else:\n",
    "    result = list(collection.find(query_part, projection))\n",
    "\n",
    "# Print the result\n",
    "print(result)"
   ]
  },
  {
   "cell_type": "code",
   "execution_count": 33,
   "metadata": {},
   "outputs": [],
   "source": [
    "from custom_tools.mongodb_query import generate_extract_mongo_query"
   ]
  },
  {
   "cell_type": "code",
   "execution_count": 34,
   "metadata": {},
   "outputs": [],
   "source": [
    "user_query = \"provide me the values for deviceId SAG_DPv3_QA3 with code B with their creation dates\"\n",
    "results = generate_extract_mongo_query(user_query)"
   ]
  },
  {
   "cell_type": "code",
   "execution_count": 48,
   "metadata": {},
   "outputs": [
    {
     "data": {
      "text/plain": [
       "pymongo.cursor.Cursor"
      ]
     },
     "execution_count": 48,
     "metadata": {},
     "output_type": "execute_result"
    }
   ],
   "source": [
    "type(results)"
   ]
  },
  {
   "cell_type": "code",
   "execution_count": 35,
   "metadata": {},
   "outputs": [
    {
     "ename": "NameError",
     "evalue": "name 'x' is not defined",
     "output_type": "error",
     "traceback": [
      "\u001b[0;31m---------------------------------------------------------------------------\u001b[0m",
      "\u001b[0;31mNameError\u001b[0m                                 Traceback (most recent call last)",
      "Cell \u001b[0;32mIn[35], line 10\u001b[0m\n\u001b[1;32m      7\u001b[0m     \u001b[38;5;28;01mreturn\u001b[39;00m x,y\n\u001b[1;32m      9\u001b[0m \u001b[38;5;66;03m# Output the lists\u001b[39;00m\n\u001b[0;32m---> 10\u001b[0m \u001b[38;5;28mprint\u001b[39m(\u001b[38;5;124m\"\u001b[39m\u001b[38;5;124mValues:\u001b[39m\u001b[38;5;124m\"\u001b[39m, x)\n\u001b[1;32m     11\u001b[0m \u001b[38;5;28mprint\u001b[39m(\u001b[38;5;124m\"\u001b[39m\u001b[38;5;124mCreation Dates:\u001b[39m\u001b[38;5;124m\"\u001b[39m, y)\n",
      "\u001b[0;31mNameError\u001b[0m: name 'x' is not defined"
     ]
    }
   ],
   "source": [
    "def obtain_values(results):\n",
    "    x = []  \n",
    "    y = []\n",
    "    for document in results:\n",
    "        x.append(document['value'])\n",
    "        y.append(document['creationDate'])\n",
    "    return x,y\n",
    "\n",
    "# Output the lists\n",
    "print(\"Values:\", x)\n",
    "print(\"Creation Dates:\", y)"
   ]
  },
  {
   "cell_type": "code",
   "execution_count": 31,
   "metadata": {},
   "outputs": [],
   "source": [
    "from datetime import datetime\n",
    "import matplotlib.pyplot as plt\n",
    "import matplotlib.dates as mdates\n",
    "from io import BytesIO\n",
    "import IPython.display as display\n",
    "\n",
    "def plot_values(x, y):\n",
    "    if not x or not y:\n",
    "        print(\"No data to plot.\")\n",
    "        display_plot = False\n",
    "        img_bytes = None\n",
    "        return img_bytes,display_plot\n",
    "    else:\n",
    "    # Convert x to numeric values if they are strings\n",
    "        display_plot=True\n",
    "        try:\n",
    "            x_numeric = [float(value) for value in x]\n",
    "        except ValueError:\n",
    "            print(\"Error converting x values to numeric.\")\n",
    "            return None\n",
    "\n",
    "        # Convert datetime objects in y to matplotlib date format\n",
    "        dates = [mdates.date2num(date) for date in y]\n",
    "\n",
    "        # Create the plot\n",
    "        plt.figure(figsize=(10, 6))\n",
    "        plt.plot(dates, x_numeric, marker='o', linestyle='-', color='b')\n",
    "\n",
    "        # Format the x-axis to show dates properly\n",
    "        plt.gca().xaxis.set_major_formatter(mdates.DateFormatter('%Y-%m-%d %H:%M:%S'))\n",
    "        plt.gca().xaxis.set_major_locator(mdates.AutoDateLocator())\n",
    "        plt.gcf().autofmt_xdate()  # Rotate date labels for better readability\n",
    "\n",
    "        #plt.xlabel('Creation Date')\n",
    "        #plt.ylabel('Value')\n",
    "        #plt.title('Values vs Creation Dates')\n",
    "        plt.grid(True)\n",
    "\n",
    "        # Save the plot as an image to a BytesIO object\n",
    "        img_bytes = BytesIO()\n",
    "        plt.savefig(img_bytes, format='png')\n",
    "        plt.close()\n",
    "\n",
    "        #if display_plot:\n",
    "        #    img_bytes.seek(0)\n",
    "        #    img = display.Image(data=img_bytes.read())\n",
    "        #    display.display(img)\n",
    "\n",
    "        return img_bytes,display_plot\n",
    "\n",
    "# Call the function to plot and get the image object\n",
    "img_bytes,display_plot = plot_values(x, y)\n"
   ]
  },
  {
   "cell_type": "code",
   "execution_count": 33,
   "metadata": {},
   "outputs": [
    {
     "name": "stdout",
     "output_type": "stream",
     "text": [
      "This is a sample paragraph that introduces the plot below.\n"
     ]
    },
    {
     "data": {
      "image/png": "[encoded data removed]",
      "text/plain": [
       "<IPython.core.display.Image object>"
      ]
     },
     "metadata": {},
     "output_type": "display_data"
    }
   ],
   "source": [
    "def print_paragraph_and_display_image(paragraph,img_bytes,display_plot):\n",
    "    # Print the paragraph\n",
    "    \n",
    "    # Display the image if the BytesIO object is provided\n",
    "    if display_plot:\n",
    "        print(paragraph)\n",
    "        img_bytes.seek(0)\n",
    "        img = display.Image(data=img_bytes.read())\n",
    "        display.display(img)\n",
    "    else:\n",
    "        print(paragraph)\n",
    "\n",
    "# Example usage\n",
    "paragraph = \"This is a sample paragraph that introduces the plot below.\"\n",
    "#img_bytes = plot_values(x, y, display_plot=False)  # Set display_plot=False to just get the image bytes\n",
    "\n",
    "print_paragraph_and_display_image(paragraph, img_bytes,display_plot)"
   ]
  },
  {
   "cell_type": "code",
   "execution_count": 50,
   "metadata": {},
   "outputs": [
    {
     "data": {
      "text/plain": [
       "_io.BytesIO"
      ]
     },
     "execution_count": 50,
     "metadata": {},
     "output_type": "execute_result"
    }
   ],
   "source": [
    "(img_bytes)"
   ]
  },
  {
   "cell_type": "code",
   "execution_count": 78,
   "metadata": {},
   "outputs": [],
   "source": [
    "from custom_tools.mongodb_query import generate_extract_mongo_query,access_mongodb\n",
    "from custom_tools.display_tool import obtain_values,plot_values\n",
    "from langchain_core.prompts import ChatPromptTemplate\n",
    "from langchain_core.runnables import Runnable, RunnableConfig\n",
    "from typing import Annotated\n",
    "from typing_extensions import TypedDict\n",
    "from langgraph.graph.message import AnyMessage, add_messages\n",
    "from langchain_core.tools import tool\n",
    "\n",
    "\n",
    "class State(TypedDict):\n",
    "    messages: Annotated[list[AnyMessage], add_messages]"
   ]
  },
  {
   "cell_type": "code",
   "execution_count": 46,
   "metadata": {},
   "outputs": [],
   "source": [
    "from langchain_core.messages import ToolMessage\n",
    "from langchain_core.runnables import RunnableLambda\n",
    "\n",
    "from langgraph.prebuilt import ToolNode\n",
    "\n",
    "\n",
    "def handle_tool_error(state) -> dict:\n",
    "    error = state.get(\"error\")\n",
    "    tool_calls = state[\"messages\"][-1].tool_calls\n",
    "    return {\n",
    "        \"messages\": [\n",
    "            ToolMessage(\n",
    "                content=f\"Error: {repr(error)}\\n please fix your mistakes.\",\n",
    "                tool_call_id=tc[\"id\"],\n",
    "            )\n",
    "            for tc in tool_calls\n",
    "        ]\n",
    "    }\n",
    "\n",
    "\n",
    "def create_tool_node_with_fallback(tools: list) -> dict:\n",
    "    return ToolNode(tools).with_fallbacks(\n",
    "        [RunnableLambda(handle_tool_error)], exception_key=\"error\"\n",
    "    )\n",
    "\n",
    "\n",
    "def _print_event(event: dict, _printed: set, max_length=1500):\n",
    "    current_state = event.get(\"dialog_state\")\n",
    "    if current_state:\n",
    "        print(\"Currently in: \", current_state[-1])\n",
    "    message = event.get(\"messages\")\n",
    "    if message:\n",
    "        if isinstance(message, list):\n",
    "            message = message[-1]\n",
    "        if message.id not in _printed:\n",
    "            msg_repr = message.pretty_repr(html=True)\n",
    "            if len(msg_repr) > max_length:\n",
    "                msg_repr = msg_repr[:max_length] + \" ... (truncated)\"\n",
    "            print(msg_repr)\n",
    "            _printed.add(message.id)"
   ]
  },
  {
   "cell_type": "code",
   "execution_count": 47,
   "metadata": {},
   "outputs": [],
   "source": [
    "class Assistant:\n",
    "    def __init__(self, runnable: Runnable):\n",
    "        self.runnable = runnable\n",
    "\n",
    "    def __call__(self, state: State, config: RunnableConfig):\n",
    "        while True:\n",
    "            configuration = config.get(\"configurable\", {})\n",
    "            passenger_id = configuration.get(\"passenger_id\", None)\n",
    "            state = {**state, \"user_info\": passenger_id}\n",
    "            result = self.runnable.invoke(state)\n",
    "            # If the LLM happens to return an empty response, we will re-prompt it\n",
    "            # for an actual response.\n",
    "            if not result.tool_calls and (\n",
    "                not result.content\n",
    "                or isinstance(result.content, list)\n",
    "                and not result.content[0].get(\"text\")\n",
    "            ):\n",
    "                messages = state[\"messages\"] + [(\"user\", \"Respond with a real output.\")]\n",
    "                state = {**state, \"messages\": messages}\n",
    "            else:\n",
    "                break\n",
    "        return {\"messages\": result}"
   ]
  },
  {
   "cell_type": "code",
   "execution_count": 48,
   "metadata": {},
   "outputs": [],
   "source": [
    "llm = ChatGoogleGenerativeAI(\n",
    "        model=\"gemini-1.5-flash\",\n",
    "        max_tokens=250,\n",
    "        temperature=0.5)"
   ]
  },
  {
   "cell_type": "code",
   "execution_count": 79,
   "metadata": {},
   "outputs": [],
   "source": [
    "@tool(\"get_access\")\n",
    "def get_access():\n",
    "    '''Provides access to MongoDB and returns the collection.\n",
    "    \n",
    "      Args:\n",
    "      None\n",
    "\n",
    "    Returns:\n",
    "      collection (pymongo.collection.collection): retrieved relevant collection from the mongodb  \n",
    "    '''\n",
    "    print(\"running get_access\")\n",
    "    collection = access_mongodb()\n",
    "\n",
    "    return collection\n",
    "\n",
    "@tool(\"get_mongoquery\")\n",
    "def get_mongoquery(user_query,collection):\n",
    "    '''Provides access to MongoDB and Extracts the relevant mongo query from a mongodb provided a user query and provides the results.\n",
    "    \n",
    "      Args:\n",
    "      user_query (str): user query which can be the question or any request related the products and services details.\n",
    "      collection (pymongo.collection.collection):  relevant collection that provides access to mongodb\n",
    "\n",
    "    Returns:\n",
    "      results (pymongo.cursor.Cursor): retrieved relevant documents for the user query which is formatted into a Cursor    \n",
    "    '''\n",
    "    print(\"running get_mongoquery\")\n",
    "    query_part,projection = generate_extract_mongo_query(user_query)\n",
    "    results = collection.find(query_part, projection)\n",
    "\n",
    "    return results\n",
    "\n",
    "@tool(\"get_values\")\n",
    "def get_values(results):\n",
    "    '''Extracts the relevant lists from the results cursor.\n",
    "    \n",
    "      Args:\n",
    "      results (pymongo.cursor.Cursor): retrieved relevant documents for the user query which is formatted into a Cursor  \n",
    "\n",
    "    Returns:\n",
    "      x(list),y(list): retrieved relevant lists for the results which is formatted into a Cursor    \n",
    "    '''\n",
    "    print(\"running get_values\")\n",
    "    x,y = obtain_values(results)\n",
    "\n",
    "    return x,y\n",
    "\n",
    "@tool(\"chart_plot\")\n",
    "def chart_plot(x:list,y:list):\n",
    "    '''provides a plot for the provided values\n",
    "    \n",
    "      Args:\n",
    "      x(list),y(list): relevant lists for the results which is formatted into a Cursor\n",
    "\n",
    "    Returns:\n",
    "      img_bytes(_io.BytesIO),display_plot(bool): relevant image of the chart and condition of plot present  \n",
    "    '''\n",
    "    print(\"running CHART_PLOT\")\n",
    "    img_bytes,display_plot = plot_values(x,y)\n",
    "\n",
    "\n",
    "    return img_bytes,display_plot\n"
   ]
  },
  {
   "cell_type": "code",
   "execution_count": 80,
   "metadata": {},
   "outputs": [],
   "source": [
    "primary_assistant_prompt = ChatPromptTemplate.from_messages(\n",
    "    [\n",
    "        (\n",
    "            \"system\",\n",
    "            \"You are a QA AI assistant. \"\n",
    "            \" Use the provided tools to provide answers for questions.\"\n",
    "            \" When searching, be persistent. Expand your query bounds if the first search returns no results. \"\n",
    "            \" If a search comes up empty, expand your search before giving up.\"\n",
    "            \"\\nCurrent time: {time}.\",\n",
    "        ),\n",
    "        (\"placeholder\", \"{messages}\"),\n",
    "    ]\n",
    ").partial(time=datetime.now())"
   ]
  },
  {
   "cell_type": "code",
   "execution_count": 85,
   "metadata": {},
   "outputs": [],
   "source": [
    "part_1_tools = [\n",
    "    get_mongoquery,\n",
    "    get_values,\n",
    "    chart_plot\n",
    "]\n",
    "part_1_assistant_runnable = primary_assistant_prompt | llm.bind_tools(part_1_tools)"
   ]
  },
  {
   "cell_type": "code",
   "execution_count": 86,
   "metadata": {},
   "outputs": [],
   "source": [
    "from langgraph.checkpoint.memory import MemorySaver\n",
    "from langgraph.graph import END, StateGraph, START\n",
    "from langgraph.prebuilt import tools_condition\n",
    "\n",
    "builder = StateGraph(State)\n",
    "\n",
    "\n",
    "# Define nodes: these do the work\n",
    "builder.add_node(\"assistant\", Assistant(part_1_assistant_runnable))\n",
    "builder.add_node(\"tools\", create_tool_node_with_fallback(part_1_tools))\n",
    "# Define edges: these determine how the control flow moves\n",
    "builder.add_edge(START, \"assistant\")\n",
    "builder.add_conditional_edges(\n",
    "    \"assistant\",\n",
    "    tools_condition,\n",
    ")\n",
    "builder.add_edge(\"tools\", \"assistant\")\n",
    "\n",
    "# The checkpointer lets the graph persist its state\n",
    "# this is a complete memory for the entire graph.\n",
    "memory = MemorySaver()\n",
    "part_1_graph = builder.compile(checkpointer=memory)"
   ]
  },
  {
   "cell_type": "code",
   "execution_count": 75,
   "metadata": {},
   "outputs": [
    {
     "data": {
      "image/jpeg": "[encoded data removed]",
      "text/plain": [
       "<IPython.core.display.Image object>"
      ]
     },
     "metadata": {},
     "output_type": "display_data"
    }
   ],
   "source": [
    "from IPython.display import Image, display\n",
    "\n",
    "try:\n",
    "    display(Image(part_1_graph.get_graph(xray=True).draw_mermaid_png()))\n",
    "except Exception:\n",
    "    # This requires some extra dependencies and is optional\n",
    "    pass"
   ]
  },
  {
   "cell_type": "code",
   "execution_count": 83,
   "metadata": {},
   "outputs": [],
   "source": [
    "tutorial_questions = [\n",
    "    \"provide me the values for deviceId SAG_DPv3_QA3 with code B with their creation dates\"]"
   ]
  },
  {
   "cell_type": "code",
   "execution_count": 87,
   "metadata": {},
   "outputs": [
    {
     "name": "stdout",
     "output_type": "stream",
     "text": [
      "================================\u001b[1m Human Message \u001b[0m=================================\n",
      "\n",
      "provide me the values for deviceId SAG_DPv3_QA3 with code B with their creation dates\n",
      "==================================\u001b[1m Ai Message \u001b[0m==================================\n",
      "Tool Calls:\n",
      "  get_mongoquery (1b7ff3f3-343e-48f9-bcac-3319cefbc8be)\n",
      " Call ID: 1b7ff3f3-343e-48f9-bcac-3319cefbc8be\n",
      "  Args:\n",
      "    collection: devices\n",
      "    user_query: provide me the values for deviceId SAG_DPv3_QA3 with code B with their creation dates\n",
      "running get_mongoquery\n",
      "=================================\u001b[1m Tool Message \u001b[0m=================================\n",
      "Name: get_mongoquery\n",
      "\n",
      "Error: ValueError('too many values to unpack (expected 2)')\n",
      " Please fix your mistakes.\n",
      "==================================\u001b[1m Ai Message \u001b[0m==================================\n",
      "\n",
      "I am sorry, I cannot fulfill your request. The tool is unable to process the query.  Please verify the information you provided.\n"
     ]
    }
   ],
   "source": [
    "import uuid\n",
    "\n",
    "# Update with the backup file so we can restart from the original place in each section\n",
    "thread_id = str(uuid.uuid4())\n",
    "\n",
    "config = {\n",
    "    \"configurable\": {\n",
    "        # The passenger_id is used in our flight tools to\n",
    "        # fetch the user's flight information\n",
    "        \"device_id\": \"SAG_DPv3_QA3\",\n",
    "        # Checkpoints are accessed by thread_id\n",
    "        \"thread_id\": thread_id,\n",
    "    }\n",
    "}\n",
    "\n",
    "_printed = set()\n",
    "for question in tutorial_questions:\n",
    "    events = part_1_graph.stream(\n",
    "        {\"messages\": (\"user\", question)},config, stream_mode=\"values\"\n",
    "    )\n",
    "    for event in events:\n",
    "        _print_event(event, _printed)"
   ]
  },
  {
   "cell_type": "code",
   "execution_count": 2,
   "metadata": {},
   "outputs": [],
   "source": [
    "user_query = \"provide me the values for deviceId SAG_DPv3_QA3 with code H and its creation dates\""
   ]
  },
  {
   "cell_type": "code",
   "execution_count": 1,
   "metadata": {},
   "outputs": [],
   "source": [
    "from chat_agent.mongodb_agent import db_agent"
   ]
  },
  {
   "cell_type": "code",
   "execution_count": 3,
   "metadata": {},
   "outputs": [
    {
     "data": {
      "image/png": "[encoded data removed]",
      "text/plain": [
       "<IPython.core.display.Image object>"
      ]
     },
     "metadata": {},
     "output_type": "display_data"
    }
   ],
   "source": [
    "agent_result = db_agent(user_query)"
   ]
  },
  {
   "cell_type": "code",
   "execution_count": null,
   "metadata": {},
   "outputs": [],
   "source": []
  }
 ],
 "metadata": {
  "kernelspec": {
   "display_name": "torch",
   "language": "python",
   "name": "python3"
  },
  "language_info": {
   "codemirror_mode": {
    "name": "ipython",
    "version": 3
   },
   "file_extension": ".py",
   "mimetype": "text/x-python",
   "name": "python",
   "nbconvert_exporter": "python",
   "pygments_lexer": "ipython3",
   "version": "3.11.5"
  }
 },
 "nbformat": 4,
 "nbformat_minor": 2
}
