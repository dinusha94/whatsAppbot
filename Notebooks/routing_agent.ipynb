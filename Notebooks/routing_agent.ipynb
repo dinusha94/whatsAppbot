{
 "cells": [
  {
   "cell_type": "code",
   "execution_count": null,
   "metadata": {},
   "outputs": [],
   "source": [
    "from langchain_google_genai import ChatGoogleGenerativeAI\n",
    "import os\n",
    "from dotenv import load_dotenv\n",
    "from langchain_core.prompts import ChatPromptTemplate"
   ]
  },
  {
   "cell_type": "code",
   "execution_count": null,
   "metadata": {},
   "outputs": [],
   "source": [
    "llm = ChatGoogleGenerativeAI(\n",
    "        model=\"gemini-1.5-flash\",\n",
    "        max_tokens=250,\n",
    "        temperature=0.3,)"
   ]
  },
  {
   "cell_type": "code",
   "execution_count": null,
   "metadata": {},
   "outputs": [],
   "source": [
    "main_prompt = ChatPromptTemplate.from_messages(\n",
    "        [\n",
    "            (\n",
    "                \"system\",\n",
    "                \"\"\"You are a helpful question routing assistant that routes questions provided by the user. \n",
    "                If the user greets you,you greet them back by asking their wellbeing.\n",
    "                You must be able route their questions towards 2 aspects.\n",
    "                If the question is about plotting graphs, charts, etc you must reply as 'IMG' only.\n",
    "                If the question is regarding some other question requesting a guideline or inquiring reasons for causes regarding devices you will reply as 'RAG' only.\n",
    "                If query is a greeting message you greet them back.\n",
    "                If query is anything other than that you will reply as 'I don't have any information regarding this.'\n",
    "                Your replies should be of single sentence and do not include 'new line' characters in your replies.\"\"\",\n",
    "            ),\n",
    "            (\"human\", \"question: {question}\"),\n",
    "        ])\n",
    "\n",
    "main_chain = main_prompt | llm "
   ]
  },
  {
   "cell_type": "code",
   "execution_count": null,
   "metadata": {},
   "outputs": [],
   "source": [
    "question = \"What are the common devices failure and reasons?\""
   ]
  },
  {
   "cell_type": "code",
   "execution_count": null,
   "metadata": {},
   "outputs": [],
   "source": [
    "ai_msg=main_chain.invoke({\n",
    "        \"question\": question\n",
    "        })\n",
    "    \n",
    "result = ai_msg.content\n",
    "result = result.replace('\\n', '')\n",
    "result"
   ]
  },
  {
   "cell_type": "code",
   "execution_count": 1,
   "metadata": {},
   "outputs": [],
   "source": [
    "from custom_agents.routing_agent import routing_agent_decision"
   ]
  },
  {
   "cell_type": "code",
   "execution_count": 4,
   "metadata": {},
   "outputs": [
    {
     "data": {
      "text/plain": [
       "'IMG'"
      ]
     },
     "execution_count": 4,
     "metadata": {},
     "output_type": "execute_result"
    }
   ],
   "source": [
    "question = \"For the device Id SAQW2334 and code T between the dates 2024-08-20 and 2024-08-23, provide me a plot for the values \"\n",
    "result = routing_agent_decision(question)\n",
    "result"
   ]
  },
  {
   "cell_type": "code",
   "execution_count": 1,
   "metadata": {},
   "outputs": [],
   "source": [
    "from langchain_google_genai import GoogleGenerativeAIEmbeddings,ChatGoogleGenerativeAI\n",
    "import os\n",
    "from dotenv import load_dotenv\n",
    "from langchain.vectorstores import Chroma\n",
    "from langchain_core.prompts import ChatPromptTemplate\n",
    "from utils.records import records_output\n",
    "persist_directory = 'docs/chroma/'"
   ]
  },
  {
   "cell_type": "code",
   "execution_count": 2,
   "metadata": {},
   "outputs": [],
   "source": [
    "def gen_context(vectordb,question):\n",
    "    docs = vectordb.similarity_search(question,k=3)\n",
    "    doc_list= []\n",
    "    context=\"\"\n",
    "    for i in range(len(docs)):\n",
    "        #print(docs[i].page_content)\n",
    "        context =context + docs[i].page_content +\"\\n\"\n",
    "    for doc in docs:\n",
    "        #print(doc.metadata)\n",
    "        doc_list.append(doc.metadata)\n",
    "    return context"
   ]
  },
  {
   "cell_type": "code",
   "execution_count": 3,
   "metadata": {},
   "outputs": [],
   "source": [
    "embeddings = GoogleGenerativeAIEmbeddings(model=\"models/embedding-001\")\n",
    "vectordb = Chroma(persist_directory=persist_directory, embedding_function=embeddings)\n",
    "llm = ChatGoogleGenerativeAI(\n",
    "        model=\"gemini-1.5-flash\",\n",
    "        max_tokens=250,\n",
    "        temperature=0.5,)"
   ]
  },
  {
   "cell_type": "code",
   "execution_count": 4,
   "metadata": {},
   "outputs": [],
   "source": [
    "main_prompt = ChatPromptTemplate.from_messages(\n",
    "        [\n",
    "            (\n",
    "                \"system\",\n",
    "                \"\"\"You are a helpful assistant that answers questions provided by the user. \n",
    "                If the user greets you,you greet them back by asking their wellbeing.\n",
    "                Provide the answers in an explanatory manner.\n",
    "                You must use the available context for providing answers. \n",
    "                Do not provide any other answers if they are not present in context.\n",
    "                If you do not know about anything, then reply with I don't have enough information\"\"\",\n",
    "            ),\n",
    "            (\"human\", \"context: {context}\\n question: {question}\"),\n",
    "        ])\n",
    "\n",
    "main_chain = main_prompt | llm "
   ]
  },
  {
   "cell_type": "code",
   "execution_count": 6,
   "metadata": {},
   "outputs": [],
   "source": [
    "question = \"What are some common device failures\""
   ]
  },
  {
   "cell_type": "code",
   "execution_count": 7,
   "metadata": {},
   "outputs": [],
   "source": [
    "context = gen_context(vectordb,question)"
   ]
  },
  {
   "cell_type": "code",
   "execution_count": 8,
   "metadata": {},
   "outputs": [
    {
     "name": "stdout",
     "output_type": "stream",
     "text": [
      "I don't have enough information to answer your question. Please provide me with more context. For example, what kind of devices are you interested in? \n",
      "\n"
     ]
    }
   ],
   "source": [
    "ai_msg=main_chain.invoke({\n",
    "        \"question\": question,\n",
    "        \"context\": context\n",
    "        })\n",
    "    \n",
    "result = ai_msg.content\n",
    "print(result)"
   ]
  },
  {
   "cell_type": "code",
   "execution_count": null,
   "metadata": {},
   "outputs": [],
   "source": []
  }
 ],
 "metadata": {
  "kernelspec": {
   "display_name": "torch",
   "language": "python",
   "name": "python3"
  },
  "language_info": {
   "codemirror_mode": {
    "name": "ipython",
    "version": 3
   },
   "file_extension": ".py",
   "mimetype": "text/x-python",
   "name": "python",
   "nbconvert_exporter": "python",
   "pygments_lexer": "ipython3",
   "version": "3.11.5"
  }
 },
 "nbformat": 4,
 "nbformat_minor": 2
}
